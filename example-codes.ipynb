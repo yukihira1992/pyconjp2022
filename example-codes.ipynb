{
 "cells": [
  {
   "cell_type": "markdown",
   "source": [
    "# サンプルコード集"
   ],
   "metadata": {
    "collapsed": false,
    "pycharm": {
     "name": "#%% md\n"
    }
   }
  },
  {
   "cell_type": "markdown",
   "source": [
    "## ソースコードからASTへの変換\n",
    "\n",
    "astroidでPythonのソースコードをASTに変換する。"
   ],
   "metadata": {
    "collapsed": false
   }
  },
  {
   "cell_type": "code",
   "execution_count": 52,
   "metadata": {
    "collapsed": true
   },
   "outputs": [
    {
     "name": "stdout",
     "output_type": "stream",
     "text": [
      "BinOp(\n",
      "   op='*',\n",
      "   left=BinOp(\n",
      "      op='+',\n",
      "      left=Name(name='x'),\n",
      "      right=Const(\n",
      "         value=1,\n",
      "         kind=None)),\n",
      "   right=Const(\n",
      "      value=2,\n",
      "      kind=None))\n"
     ]
    }
   ],
   "source": [
    "import astroid\n",
    "\n",
    "code = \"\"\"\n",
    "( x + 1 ) * 2\n",
    "\"\"\"\n",
    "node = astroid.extract_node(code)\n",
    "print(node.repr_tree())\n"
   ]
  },
  {
   "cell_type": "markdown",
   "source": [
    "## print関数を利用するコードの構造\n",
    "\n",
    "`print(\"Hello World\")` をASTに変換する。"
   ],
   "metadata": {
    "collapsed": false,
    "pycharm": {
     "name": "#%% md\n"
    }
   }
  },
  {
   "cell_type": "code",
   "execution_count": 53,
   "outputs": [
    {
     "name": "stdout",
     "output_type": "stream",
     "text": [
      "Call(\n",
      "   func=Name(name='print'),\n",
      "   args=[Const(\n",
      "         value='Hello World',\n",
      "         kind=None)],\n",
      "   keywords=[])\n"
     ]
    }
   ],
   "source": [
    "import astroid\n",
    "\n",
    "code = \"\"\"\n",
    "print(\"Hello World\")\n",
    "\"\"\"\n",
    "node = astroid.extract_node(code)\n",
    "print(node.repr_tree())"
   ],
   "metadata": {
    "collapsed": false,
    "pycharm": {
     "name": "#%%\n"
    }
   }
  },
  {
   "cell_type": "markdown",
   "source": [
    "関数ではなくメソッド呼び出しの場合はfunc属性がNameノードではなくAttributeノードになるので区別できる。"
   ],
   "metadata": {
    "collapsed": false,
    "pycharm": {
     "name": "#%% md\n"
    }
   }
  },
  {
   "cell_type": "code",
   "execution_count": 54,
   "outputs": [
    {
     "name": "stdout",
     "output_type": "stream",
     "text": [
      "Call(\n",
      "   func=Attribute(\n",
      "      attrname='print',\n",
      "      expr=Name(name='obj')),\n",
      "   args=[Const(\n",
      "         value='Hello World',\n",
      "         kind=None)],\n",
      "   keywords=[])\n"
     ]
    }
   ],
   "source": [
    "import astroid\n",
    "\n",
    "code = \"\"\"\n",
    "obj.print(\"Hello World\")\n",
    "\"\"\"\n",
    "node = astroid.extract_node(code)\n",
    "print(node.repr_tree())"
   ],
   "metadata": {
    "collapsed": false,
    "pycharm": {
     "name": "#%%\n"
    }
   }
  },
  {
   "cell_type": "markdown",
   "source": [
    "## print関数利用の判定ロジック"
   ],
   "metadata": {
    "collapsed": false,
    "pycharm": {
     "name": "#%% md\n"
    }
   }
  },
  {
   "cell_type": "code",
   "execution_count": 55,
   "outputs": [
    {
     "name": "stdout",
     "output_type": "stream",
     "text": [
      "print('Hello World')  is print function call ?\n",
      "True\n",
      "obj.print('Hello World')  is print function call ?\n",
      "False\n",
      "str('Hello World')  is print function call ?\n",
      "False\n"
     ]
    }
   ],
   "source": [
    "import astroid\n",
    "from astroid import nodes\n",
    "\n",
    "\n",
    "def is_print_function_call(node: nodes.NodeNG) -> bool:\n",
    "    if not isinstance(node, nodes.Call):\n",
    "        return False\n",
    "\n",
    "    call_target = node.func\n",
    "    if not isinstance(call_target, nodes.Name):\n",
    "        return False\n",
    "\n",
    "    return call_target.name == \"print\"\n",
    "\n",
    "\n",
    "node1 = astroid.extract_node(\"\"\"\n",
    "print(\"Hello World\")\n",
    "\"\"\")\n",
    "print(node1.as_string(), \" is print function call ?\")\n",
    "print(is_print_function_call(node1))\n",
    "\n",
    "node2 = astroid.extract_node(\"\"\"\n",
    "obj.print(\"Hello World\")\n",
    "\"\"\")\n",
    "print(node2.as_string(), \" is print function call ?\")\n",
    "print(is_print_function_call(node2))\n",
    "\n",
    "node3 = astroid.extract_node(\"\"\"\n",
    "str(\"Hello World\")\n",
    "\"\"\")\n",
    "print(node3.as_string(), \" is print function call ?\")\n",
    "print(is_print_function_call(node3))\n"
   ],
   "metadata": {
    "collapsed": false,
    "pycharm": {
     "name": "#%%\n"
    }
   }
  },
  {
   "cell_type": "markdown",
   "source": [
    "## print関数利用を検知するCheckerクラス"
   ],
   "metadata": {
    "collapsed": false
   }
  },
  {
   "cell_type": "code",
   "execution_count": 56,
   "outputs": [],
   "source": [
    "from astroid import nodes\n",
    "from pylint.checkers import BaseChecker\n",
    "from pylint.typing import MessageDefinitionTuple\n",
    "\n",
    "\n",
    "def is_print_function_call(node: nodes.NodeNG) -> bool:\n",
    "    if not isinstance(node, nodes.Call):\n",
    "        return False\n",
    "\n",
    "    call_target = node.func\n",
    "    if not isinstance(call_target, nodes.Name):\n",
    "        return False\n",
    "\n",
    "    return call_target.name == \"print\"\n",
    "\n",
    "\n",
    "class PrintFunctionChecker(BaseChecker):\n",
    "    name = \"print-function-checker\"\n",
    "    msgs: dict[str, MessageDefinitionTuple] = {\n",
    "        \"E9901\": (\n",
    "            \"Used print function\",\n",
    "            \"no-print-function\",\n",
    "            \"print function should not be used.\",\n",
    "        ),\n",
    "    }\n",
    "\n",
    "    def visit_call(self, node: nodes.Call):\n",
    "        if is_print_function_call(node):\n",
    "            self.add_message(\"no-print-function\", node=node)\n",
    "\n"
   ],
   "metadata": {
    "collapsed": false,
    "pycharm": {
     "name": "#%%\n"
    }
   }
  },
  {
   "cell_type": "markdown",
   "source": [
    "## 別名が付けられたprint関数の利用を検知できるのか？\n",
    "\n",
    "print2にprint関数を代入して呼び出すと、Callノードの関数名がprint2に変わってしまう。\n",
    "Callノードの関数名を見ただけでは別名を見分けることができない。"
   ],
   "metadata": {
    "collapsed": false,
    "pycharm": {
     "name": "#%% md\n"
    }
   }
  },
  {
   "cell_type": "code",
   "execution_count": 57,
   "outputs": [
    {
     "name": "stdout",
     "output_type": "stream",
     "text": [
      "Call(\n",
      "   func=Name(name='print2'),\n",
      "   args=[Const(\n",
      "         value='検知できるかな？',\n",
      "         kind=None)],\n",
      "   keywords=[])\n"
     ]
    }
   ],
   "source": [
    "import astroid\n",
    "\n",
    "code = \"\"\"\n",
    "print2 = print\n",
    "print2(\"検知できるかな？\")\n",
    "\"\"\"\n",
    "node = astroid.extract_node(code)  # extract_nodeはデフォルトでコードの最終行をノードとして取り出す\n",
    "print(node.repr_tree())"
   ],
   "metadata": {
    "collapsed": false,
    "pycharm": {
     "name": "#%%\n"
    }
   }
  },
  {
   "cell_type": "markdown",
   "source": [
    "## astroidのinference(推論)機能の紹介\n",
    "\n",
    "推論前はcという変数名以外の情報を持っていない。\n",
    "推論後はcにa + bを計算した結果の定数の3が代入されていることが分かる。"
   ],
   "metadata": {
    "collapsed": false,
    "pycharm": {
     "name": "#%% md\n"
    }
   }
  },
  {
   "cell_type": "code",
   "execution_count": 58,
   "outputs": [
    {
     "name": "stdout",
     "output_type": "stream",
     "text": [
      "推論前のノード\n",
      "Name(name='c')\n",
      "推論後のノード\n",
      "Const(\n",
      "   value=3,\n",
      "   kind=None)\n"
     ]
    }
   ],
   "source": [
    "import astroid\n",
    "\n",
    "code = \"\"\"\n",
    "a = 1\n",
    "b = 2\n",
    "c = a + b\n",
    "c\n",
    "\"\"\"\n",
    "name_node_c = astroid.extract_node(code)\n",
    "print(\"推論前のノード\")\n",
    "print(name_node_c.repr_tree())\n",
    "\n",
    "print(\"推論後のノード\")\n",
    "inferred = next(name_node_c.infer())\n",
    "print(inferred.repr_tree())"
   ],
   "metadata": {
    "collapsed": false,
    "pycharm": {
     "name": "#%%\n"
    }
   }
  },
  {
   "cell_type": "markdown",
   "source": [
    "## inferenceを使った関数呼び出しの名前解決\n",
    "\n",
    "推論前のCallノードのfunc属性はprint2という名前のNameノード。\n",
    "推論後はオリジナルの関数定義であるFunctionDefノードが得られ、名前もprintであることが分かる。\n",
    "FunctionDefの親ノードも見るとbuiltinsという名前のモジュールであることが分かり、組み込みモジュールで定義されたprint関数であることが確実になる。"
   ],
   "metadata": {
    "collapsed": false,
    "pycharm": {
     "name": "#%% md\n"
    }
   }
  },
  {
   "cell_type": "code",
   "execution_count": 59,
   "outputs": [
    {
     "name": "stdout",
     "output_type": "stream",
     "text": [
      "推論前の呼び出し対象の種類\n",
      "<class 'astroid.nodes.node_classes.Name'>\n",
      "推論前の呼び出し対象の名前\n",
      "print2\n",
      "推論後の呼び出し対象の種類\n",
      "<class 'astroid.nodes.scoped_nodes.scoped_nodes.FunctionDef'>\n",
      "推論後の呼び出し対象の名前\n",
      "print\n",
      "推論後の呼び出し対象のスコープ\n",
      "<class 'astroid.nodes.scoped_nodes.scoped_nodes.Module'>\n",
      "推論後の呼び出し対象のスコープ名\n",
      "builtins\n"
     ]
    }
   ],
   "source": [
    "import astroid\n",
    "\n",
    "code = \"\"\"\n",
    "print2 = print\n",
    "print2(\"検知できるかな？\")\n",
    "\"\"\"\n",
    "call_node = astroid.extract_node(code)\n",
    "call_target = call_node.func\n",
    "print(\"推論前の呼び出し対象の種類\")\n",
    "print(type(call_target))\n",
    "print(\"推論前の呼び出し対象の名前\")\n",
    "print(call_target.name)\n",
    "\n",
    "inferred = next(call_target.infer())\n",
    "print(\"推論後の呼び出し対象の種類\")\n",
    "print(type(inferred))\n",
    "print(\"推論後の呼び出し対象の名前\")\n",
    "print(inferred.name)\n",
    "\n",
    "scope = inferred.parent\n",
    "print(\"推論後の呼び出し対象のスコープ\")\n",
    "print(type(scope))\n",
    "print(\"推論後の呼び出し対象のスコープ名\")\n",
    "print(scope.name)\n"
   ],
   "metadata": {
    "collapsed": false,
    "pycharm": {
     "name": "#%%\n"
    }
   }
  },
  {
   "cell_type": "markdown",
   "source": [
    "## ネストしたif文をどうやって検知するか？\n",
    "\n",
    "### 3重にネストしたif文"
   ],
   "metadata": {
    "collapsed": false,
    "pycharm": {
     "name": "#%% md\n"
    }
   }
  },
  {
   "cell_type": "code",
   "execution_count": 60,
   "outputs": [
    {
     "name": "stdout",
     "output_type": "stream",
     "text": [
      "If(\n",
      "   test=Name(name='condition1'),\n",
      "   body=[If(\n",
      "         test=Name(name='condition2'),\n",
      "         body=[If(\n",
      "               test=Name(name='condition3'),\n",
      "               body=[Pass()],\n",
      "               orelse=[])],\n",
      "         orelse=[])],\n",
      "   orelse=[])\n"
     ]
    }
   ],
   "source": [
    "import astroid\n",
    "\n",
    "code = \"\"\"\n",
    "if condition1:\n",
    "    if condition2:\n",
    "        if condition3:\n",
    "            pass\n",
    "\"\"\"\n",
    "node = astroid.extract_node(code)\n",
    "print(node.repr_tree())"
   ],
   "metadata": {
    "collapsed": false,
    "pycharm": {
     "name": "#%%\n"
    }
   }
  },
  {
   "cell_type": "markdown",
   "source": [
    "\n",
    "### 途中に別のノードが存在する場合もある"
   ],
   "metadata": {
    "collapsed": false
   }
  },
  {
   "cell_type": "code",
   "execution_count": 61,
   "outputs": [
    {
     "name": "stdout",
     "output_type": "stream",
     "text": [
      "If(\n",
      "   test=Name(name='condition1'),\n",
      "   body=[While(\n",
      "         test=Name(name='condition2'),\n",
      "         body=[If(\n",
      "               test=Name(name='condition3'),\n",
      "               body=[Pass()],\n",
      "               orelse=[])],\n",
      "         orelse=[])],\n",
      "   orelse=[])\n"
     ]
    }
   ],
   "source": [
    "import astroid\n",
    "\n",
    "code = \"\"\"\n",
    "if condition1:\n",
    "    while condition2:\n",
    "        if condition3:\n",
    "            pass\n",
    "\"\"\"\n",
    "node = astroid.extract_node(code)\n",
    "print(node.repr_tree())\n"
   ],
   "metadata": {
    "collapsed": false,
    "pycharm": {
     "name": "#%%\n"
    }
   }
  },
  {
   "cell_type": "markdown",
   "source": [
    "## ノードを辿る実装の課題\n",
    "\n",
    "visit_ifメソッドが複雑になってしまっている。"
   ],
   "metadata": {
    "collapsed": false,
    "pycharm": {
     "name": "#%% md\n"
    }
   }
  },
  {
   "cell_type": "code",
   "execution_count": 62,
   "outputs": [],
   "source": [
    "from astroid import nodes\n",
    "from pylint.checkers import BaseChecker\n",
    "\n",
    "MAX_NEST_LEVEL = 3\n",
    "\n",
    "\n",
    "class NestedIfChecker(BaseChecker):\n",
    "    name = \"nested-if-checker\"\n",
    "    msgs: dict[str, MessageDefinitionTuple] = {\n",
    "        \"E9902\": (\n",
    "            \"if statements nested too much\",\n",
    "            \"too-nested-if\",\n",
    "            \"if statements should be nested too much\",\n",
    "        ),\n",
    "    }\n",
    "\n",
    "    def visit_if(self, node: nodes.If):\n",
    "        nest_level = 1\n",
    "        scope = node\n",
    "        while scope := scope.parent:\n",
    "            if isinstance(scope, nodes.If):\n",
    "                if (nest_level := nest_level + 1) > MAX_NEST_LEVEL:\n",
    "                    self.add_message(\"too-nested-if\", node=node)\n",
    "                    break"
   ],
   "metadata": {
    "collapsed": false,
    "pycharm": {
     "name": "#%%\n"
    }
   }
  },
  {
   "cell_type": "markdown",
   "source": [
    "## スタックを利用したスコープ管理の実装\n",
    "\n",
    "全体のコードの行数は増えたが、スタックの操作とネストの深さの判定で処理が分離できていて、判定ロジックの見通しが良い。"
   ],
   "metadata": {
    "collapsed": false,
    "pycharm": {
     "name": "#%% md\n"
    }
   }
  },
  {
   "cell_type": "code",
   "execution_count": 63,
   "outputs": [],
   "source": [
    "from astroid import nodes\n",
    "from pylint.checkers import BaseChecker\n",
    "\n",
    "MAX_NEST_LEVEL = 3\n",
    "\n",
    "\n",
    "class NestedIfChecker(BaseChecker):\n",
    "    name = \"nested-if-checker\"\n",
    "    msgs: dict[str, MessageDefinitionTuple] = {\n",
    "        \"E9902\": (\n",
    "            \"if statements nested too much\",\n",
    "            \"too-nested-if\",\n",
    "            \"if statements should be nested too much\",\n",
    "        ),\n",
    "    }\n",
    "\n",
    "    def open(self):\n",
    "        self._if_stack: list[nodes.If] = []\n",
    "\n",
    "    def visit_if(self, node: nodes.If):\n",
    "        self._if_stack.append(node)\n",
    "\n",
    "        if self.nest_level() > MAX_NEST_LEVEL:\n",
    "            self.add_message(\"too-nested-if\", node=node)\n",
    "\n",
    "    def leave_if(self, node: nodes.If):\n",
    "        self._if_stack.pop()\n",
    "\n",
    "    def nest_level(self) -> int:\n",
    "        return len(self._if_stack)\n",
    "\n",
    "    def inside_if_block(self) -> bool:\n",
    "        return self.nest_level() > 0"
   ],
   "metadata": {
    "collapsed": false,
    "pycharm": {
     "name": "#%%\n"
    }
   }
  }
 ],
 "metadata": {
  "kernelspec": {
   "display_name": "Python 3",
   "language": "python",
   "name": "python3"
  },
  "language_info": {
   "codemirror_mode": {
    "name": "ipython",
    "version": 2
   },
   "file_extension": ".py",
   "mimetype": "text/x-python",
   "name": "python",
   "nbconvert_exporter": "python",
   "pygments_lexer": "ipython2",
   "version": "2.7.6"
  }
 },
 "nbformat": 4,
 "nbformat_minor": 0
}